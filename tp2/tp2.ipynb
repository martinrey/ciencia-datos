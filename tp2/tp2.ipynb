{
 "cells": [
  {
   "cell_type": "markdown",
   "metadata": {},
   "source": [
    "# Trabajo Práctico 2: Electroencefalograma"
   ]
  },
  {
   "cell_type": "markdown",
   "metadata": {},
   "source": [
    "## Introducción\n",
    "\n",
    "La técnica de electroencefalografía consiste en medir la actividad eléctrica del cerebro. Para su medición, se utilizan electrodos (sensores) que se ubican en el cuero cabelludo. Cada electrodo mide en forma independiente las fluctuaciones de voltaje, generando una señal analógica que es amplificada y luego digitalizada. Los sistemas de EEG suelen variar en cantidad y ubicación de los electrodos, y en la frecuencia de muestreo. Sistemas de monitero clínicos suelen utilizar 8, 16 o 24 electrodos que se adhieren al cuero cabelludo mediante una pasta conductora. Por otro lado, equipos de EEG destinados a la investigación poseen 32, 64, 128 o 256 electrodos cuyo contacto con la piel es mediante gel electrolítico o solución salina.\n",
    "\n",
    "Los datos provistos para la resolución de este trabajo práctico provienen de un sistema de EEG con 256 electrodos de solucion salina digitalizados a 250 Hz."
   ]
  },
  {
   "cell_type": "code",
   "execution_count": 1,
   "metadata": {
    "scrolled": true
   },
   "outputs": [
    {
     "name": "stdout",
     "output_type": "stream",
     "text": [
      "[[[  9.50190530e-06   5.57428109e-06   5.15782967e-06 ...,   2.64278389e-05\n",
      "     2.78919283e-05   2.97361920e-05]\n",
      "  [  1.40950531e-05   9.57767860e-06   4.27603278e-06 ...,   2.94507772e-06\n",
      "     8.65467153e-06   1.06914288e-05]\n",
      "  [  1.09309516e-05   3.62889962e-06  -8.48103627e-07 ...,  -1.12339335e-05\n",
      "    -8.12520934e-06  -3.14385324e-06]\n",
      "  ..., \n",
      "  [ -5.62802180e-06  -1.02291402e-05  -1.11481394e-05 ...,  -5.92385743e-06\n",
      "    -2.06275938e-06   3.65524916e-07]\n",
      "  [ -4.58153173e-06  -1.71234880e-05  -1.98730018e-05 ...,   1.06924952e-06\n",
      "     5.47125888e-06   1.08661306e-05]\n",
      "  [ -8.07840003e-06  -2.16260827e-05  -2.04992649e-05 ...,  -1.04069948e-05\n",
      "    -4.84410391e-06   8.95358675e-06]]\n",
      "\n",
      " [[  1.08118656e-05   6.76392528e-06   2.86164758e-06 ...,   2.65443121e-06\n",
      "     6.61818858e-06   7.49540125e-06]\n",
      "  [  7.04641352e-06   4.53400900e-06   2.29782056e-06 ...,  -5.31661867e-06\n",
      "    -3.54813837e-06  -2.87294868e-06]\n",
      "  [  3.69078593e-06   2.88096427e-06   5.32063042e-06 ...,  -4.29662548e-06\n",
      "    -3.62930468e-06  -3.02309333e-06]\n",
      "  ..., \n",
      "  [  4.90794013e-06   4.66471150e-06   3.27125957e-06 ...,   6.25923215e-06\n",
      "    -7.28996223e-08  -5.10426655e-06]\n",
      "  [  1.82290779e-06   5.88909573e-06   1.12398823e-05 ...,   4.16359745e-06\n",
      "    -7.08157561e-07  -1.55321628e-06]\n",
      "  [ -1.71143641e-06   5.59880820e-06   1.15029951e-05 ...,  -4.79671195e-06\n",
      "    -2.19762898e-05  -2.18907714e-05]]\n",
      "\n",
      " [[  3.84199021e-05   3.09419908e-05   2.15447924e-05 ...,  -7.43065574e-05\n",
      "    -7.52439617e-05  -7.74890957e-05]\n",
      "  [  2.72120093e-05   2.09986126e-05   1.39840936e-05 ...,  -4.06521033e-05\n",
      "    -4.35094237e-05  -4.60146074e-05]\n",
      "  [  1.85777578e-05   1.45672186e-05   9.91000220e-06 ...,  -1.91337271e-05\n",
      "    -2.18688823e-05  -2.55666466e-05]\n",
      "  ..., \n",
      "  [  1.86661113e-06  -1.94805769e-06  -1.59423202e-05 ...,   1.97372714e-05\n",
      "     1.53557300e-05   1.11373117e-05]\n",
      "  [  1.09485887e-06   2.41488438e-06  -4.24061694e-06 ...,   1.35757529e-05\n",
      "     9.89722493e-06   4.70716418e-06]\n",
      "  [ -3.52927777e-06  -2.12053016e-06  -4.25622247e-06 ...,   1.45498623e-05\n",
      "     1.23185714e-05   6.78087963e-06]]\n",
      "\n",
      " ..., \n",
      " [[  9.99076988e-06   9.53603133e-06   9.62492042e-06 ...,   6.67301569e-06\n",
      "     4.44825165e-06   3.19763281e-06]\n",
      "  [  8.57882311e-06   9.38273699e-06   1.00004422e-05 ...,   3.50258017e-06\n",
      "     3.42495010e-06   3.73396878e-06]\n",
      "  [  9.88125245e-06   1.11881837e-05   1.22592837e-05 ...,   1.41924169e-06\n",
      "     7.31800019e-07   6.44735616e-07]\n",
      "  ..., \n",
      "  [  1.15020218e-05   1.10062965e-05   1.01290108e-05 ...,   1.67969697e-05\n",
      "     1.60949589e-05   1.58879676e-05]\n",
      "  [  1.01640734e-05   1.10263572e-05   1.13845474e-05 ...,   2.57103577e-05\n",
      "     2.56031579e-05   2.54057211e-05]\n",
      "  [  8.18791078e-06   8.85599344e-06   9.87665347e-06 ...,   1.54234545e-05\n",
      "     1.55202754e-05   1.52920022e-05]]\n",
      "\n",
      " [[  2.72857737e-06   1.89809720e-06   1.77341845e-06 ...,  -1.25123520e-05\n",
      "    -1.35466563e-05  -1.28976823e-05]\n",
      "  [  3.20291202e-06   1.45650458e-06  -4.82971801e-07 ...,  -1.09713204e-05\n",
      "    -1.10431863e-05  -1.14474697e-05]\n",
      "  [  4.64949577e-06   4.33089588e-06   3.68942747e-06 ...,  -1.05182685e-05\n",
      "    -1.01811960e-05  -7.97787879e-06]\n",
      "  ..., \n",
      "  [ -1.41323232e-06  -8.17686904e-07  -2.27345016e-07 ...,   7.14319974e-06\n",
      "     7.58830075e-06   7.81968441e-06]\n",
      "  [  2.08122574e-07   2.39939165e-06   4.54082365e-06 ...,   1.18554366e-05\n",
      "     1.18188416e-05   1.17085393e-05]\n",
      "  [  2.42486648e-06   2.41553993e-06   1.73477528e-06 ...,   1.10779611e-05\n",
      "     9.17173550e-06   8.45211129e-06]]\n",
      "\n",
      " [[  1.00035001e-05   8.99763588e-06   8.64721237e-06 ...,  -5.39823215e-07\n",
      "    -1.73912970e-06  -2.98117223e-06]\n",
      "  [  1.74006906e-05   1.51401817e-05   1.27546368e-05 ...,  -1.97571230e-06\n",
      "    -4.15659440e-06  -6.70754679e-06]\n",
      "  [  3.02913760e-06   3.78206793e-06   4.93679708e-06 ...,  -2.56168118e-06\n",
      "    -2.61768174e-06  -3.25388888e-06]\n",
      "  ..., \n",
      "  [ -5.97197779e-06  -5.92783881e-06  -6.14486022e-06 ...,   2.64650152e-06\n",
      "     3.63191309e-06   4.47577844e-06]\n",
      "  [ -1.99586085e-06  -3.48027589e-06  -4.49544189e-06 ...,   3.21119643e-06\n",
      "     2.96128908e-06   2.78578528e-06]\n",
      "  [ -5.69001738e-06  -6.09720946e-06  -5.85663519e-06 ...,  -1.60250030e-06\n",
      "    -1.69065260e-06  -2.00153620e-06]]]\n"
     ]
    }
   ],
   "source": [
    "import scipy.io as sio\n",
    "import numpy \n",
    "\n",
    "first_patient = sio.loadmat('P01.mat')['data']\n",
    "\n",
    "print(first_patient)"
   ]
  },
  {
   "cell_type": "markdown",
   "metadata": {},
   "source": [
    "Pareciera como que el paciente está dividido en 894 epochs. Cada epoch posee la información para los 256 electrodos en 201 muestras."
   ]
  },
  {
   "cell_type": "code",
   "execution_count": 4,
   "metadata": {},
   "outputs": [
    {
     "name": "stdout",
     "output_type": "stream",
     "text": [
      "894\n",
      "201\n"
     ]
    }
   ],
   "source": [
    "epochs = []\n",
    "\n",
    "for time_lapse in first_patient:\n",
    "    mean_between_electrodes = []\n",
    "    for i in range(201):\n",
    "        mean_for_electrodes = (time_lapse[8][i] + time_lapse[44][i] + time_lapse[80][i] + time_lapse[131][i] + time_lapse[185][i]) / 5\n",
    "        mean_between_electrodes.append(mean_for_electrodes)\n",
    "                                       \n",
    "    epochs.append(mean_between_electrodes)\n",
    "    \n"
   ]
  },
  {
   "cell_type": "markdown",
   "metadata": {},
   "source": [
    "Creo q los datos para el grafico ya estan en epochs. Fourier sobre esto? Y esto es solo sobre el primer paciente. Falta meter los otros. Es lo mismo pero se va a empezar a arrastrar"
   ]
  },
  {
   "cell_type": "code",
   "execution_count": null,
   "metadata": {
    "collapsed": true
   },
   "outputs": [],
   "source": []
  },
  {
   "cell_type": "code",
   "execution_count": null,
   "metadata": {
    "collapsed": true
   },
   "outputs": [],
   "source": []
  }
 ],
 "metadata": {
  "kernelspec": {
   "display_name": "Ciencia datos",
   "language": "python",
   "name": "cienciadatos"
  },
  "language_info": {
   "codemirror_mode": {
    "name": "ipython",
    "version": 3
   },
   "file_extension": ".py",
   "mimetype": "text/x-python",
   "name": "python",
   "nbconvert_exporter": "python",
   "pygments_lexer": "ipython3",
   "version": "3.6.1"
  }
 },
 "nbformat": 4,
 "nbformat_minor": 2
}
